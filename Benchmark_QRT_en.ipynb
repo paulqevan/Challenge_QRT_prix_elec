{
 "cells": [
  {
   "cell_type": "markdown",
   "metadata": {},
   "source": [
    "# QRT ENS Data Challenge 2023 - Benchmark (english)\n",
    "\n",
    "This notebook details the benchmark construction for the challenge - it may also help participants to start the competition.\n",
    "\n",
    "## Libraries"
   ]
  },
  {
   "cell_type": "code",
   "execution_count": 1,
   "metadata": {},
   "outputs": [],
   "source": [
    "import numpy as np\n",
    "import pandas as pd\n",
    "from scipy.stats import spearmanr\n",
    "from sklearn.linear_model import LinearRegression\n",
    "import matplotlib.pyplot as plt"
   ]
  },
  {
   "cell_type": "markdown",
   "metadata": {},
   "source": [
    "## Loading data\n",
    "\n",
    "- `X_train` and `X_test` both have $35$ columns that represent the same explanatory variables but over different time periods. \n",
    "\n",
    "- `X_train` and `Y_train` share the same column `ID` - each row corresponds to a unique ID associated wwith a day and a country. \n",
    "\n",
    "- The target of this challenge `TARGET` in `Y_train` corresponds to the price change for daily futures contracts of 24H electricity baseload. \n",
    "\n",
    "- **You will notice some columns have missing values**.\n"
   ]
  },
  {
   "cell_type": "code",
   "execution_count": 2,
   "metadata": {},
   "outputs": [],
   "source": [
    "# After downloading the X_train/X_test/Y_train .csv files in your working directory:\n",
    "\n",
    "X_train = pd.read_csv('X_train.csv')\n",
    "Y_train = pd.read_csv('Y_train.csv')\n",
    "X_test = pd.read_csv('X_test.csv')"
   ]
  },
  {
   "cell_type": "code",
   "execution_count": 3,
   "metadata": {},
   "outputs": [
    {
     "data": {
      "application/vnd.microsoft.datawrangler.viewer.v0+json": {
       "columns": [
        {
         "name": "index",
         "rawType": "int64",
         "type": "integer"
        },
        {
         "name": "ID",
         "rawType": "int64",
         "type": "integer"
        },
        {
         "name": "DAY_ID",
         "rawType": "int64",
         "type": "integer"
        },
        {
         "name": "COUNTRY",
         "rawType": "object",
         "type": "string"
        },
        {
         "name": "DE_CONSUMPTION",
         "rawType": "float64",
         "type": "float"
        },
        {
         "name": "FR_CONSUMPTION",
         "rawType": "float64",
         "type": "float"
        },
        {
         "name": "DE_FR_EXCHANGE",
         "rawType": "float64",
         "type": "float"
        },
        {
         "name": "FR_DE_EXCHANGE",
         "rawType": "float64",
         "type": "float"
        },
        {
         "name": "DE_NET_EXPORT",
         "rawType": "float64",
         "type": "float"
        },
        {
         "name": "FR_NET_EXPORT",
         "rawType": "float64",
         "type": "float"
        },
        {
         "name": "DE_NET_IMPORT",
         "rawType": "float64",
         "type": "float"
        },
        {
         "name": "FR_NET_IMPORT",
         "rawType": "float64",
         "type": "float"
        },
        {
         "name": "DE_GAS",
         "rawType": "float64",
         "type": "float"
        },
        {
         "name": "FR_GAS",
         "rawType": "float64",
         "type": "float"
        },
        {
         "name": "DE_COAL",
         "rawType": "float64",
         "type": "float"
        },
        {
         "name": "FR_COAL",
         "rawType": "float64",
         "type": "float"
        },
        {
         "name": "DE_HYDRO",
         "rawType": "float64",
         "type": "float"
        },
        {
         "name": "FR_HYDRO",
         "rawType": "float64",
         "type": "float"
        },
        {
         "name": "DE_NUCLEAR",
         "rawType": "float64",
         "type": "float"
        },
        {
         "name": "FR_NUCLEAR",
         "rawType": "float64",
         "type": "float"
        },
        {
         "name": "DE_SOLAR",
         "rawType": "float64",
         "type": "float"
        },
        {
         "name": "FR_SOLAR",
         "rawType": "float64",
         "type": "float"
        },
        {
         "name": "DE_WINDPOW",
         "rawType": "float64",
         "type": "float"
        },
        {
         "name": "FR_WINDPOW",
         "rawType": "float64",
         "type": "float"
        },
        {
         "name": "DE_LIGNITE",
         "rawType": "float64",
         "type": "float"
        },
        {
         "name": "DE_RESIDUAL_LOAD",
         "rawType": "float64",
         "type": "float"
        },
        {
         "name": "FR_RESIDUAL_LOAD",
         "rawType": "float64",
         "type": "float"
        },
        {
         "name": "DE_RAIN",
         "rawType": "float64",
         "type": "float"
        },
        {
         "name": "FR_RAIN",
         "rawType": "float64",
         "type": "float"
        },
        {
         "name": "DE_WIND",
         "rawType": "float64",
         "type": "float"
        },
        {
         "name": "FR_WIND",
         "rawType": "float64",
         "type": "float"
        },
        {
         "name": "DE_TEMP",
         "rawType": "float64",
         "type": "float"
        },
        {
         "name": "FR_TEMP",
         "rawType": "float64",
         "type": "float"
        },
        {
         "name": "GAS_RET",
         "rawType": "float64",
         "type": "float"
        },
        {
         "name": "COAL_RET",
         "rawType": "float64",
         "type": "float"
        },
        {
         "name": "CARBON_RET",
         "rawType": "float64",
         "type": "float"
        }
       ],
       "conversionMethod": "pd.DataFrame",
       "ref": "ff5fe82a-54fb-4a1b-8048-f2db15ff56ed",
       "rows": [
        [
         "0",
         "1054",
         "206",
         "FR",
         "0.2100987284833114",
         "-0.4274582131657863",
         "-0.6065234951621371",
         "0.6065234951621371",
         null,
         "0.6928595710148415",
         null,
         "-0.6928595710148415",
         "0.4412382747669207",
         "-0.2137659133791696",
         "0.7406271216270303",
         "0.288781611129084",
         "2.209047089575228",
         "0.2078382309281285",
         "0.7096140997897139",
         "-0.1904634705988722",
         "0.1017661092405789",
         "1.248911177519735",
         "-0.5733701292335194",
         "-0.2694604805417178",
         "0.8703442891567257",
         "0.6266664228163377",
         "-0.4446609427027537",
         "-0.1726796573246865",
         "-0.5563555002917462",
         "-0.7908234249630843",
         "-0.2831603961185542",
         "-1.0690696072258417",
         "-0.0634041413471691",
         "0.3390405863640898",
         "0.1245520599706906",
         "-0.0024447867138458"
        ],
        [
         "1",
         "2049",
         "501",
         "FR",
         "-0.022399345587708",
         "-1.00345246520524",
         "-0.0220632467608418",
         "0.0220632467608418",
         "-0.5735195387252847",
         "-1.1308376214004447",
         "0.5735195387252847",
         "1.1308376214004447",
         "0.1747728112653883",
         "0.4269397331734688",
         "-0.1703917050363311",
         "-0.7621528254370653",
         "0.1879638503891928",
         "-0.8071117162817929",
         "-1.882740238974524",
         "-2.1859607711861857",
         "1.987427952177649",
         "3.23738042714508",
         "-0.0355144167050796",
         "-0.1073497959444127",
         "-0.1943079460466215",
         "-0.3954691202643201",
         "-1.1831938117187766",
         "-1.2402995890904016",
         "-0.7704573225898551",
         "1.5223308636465445",
         "0.8284119037598268",
         "0.4374190737995921",
         "1.8312409116063852",
         "-0.6590913073784734",
         "0.0471142795170799",
         "-0.4903654095824015"
        ],
        [
         "2",
         "1924",
         "687",
         "FR",
         "1.3950350928111728",
         "1.9786653993528185",
         "1.0213052419055586",
         "-1.0213052419055586",
         "-0.622021238905383",
         "-1.6825866471237902",
         "0.622021238905383",
         "1.6825866471237902",
         "2.3519134762227707",
         "2.122241279820265",
         "1.572266570407559",
         "0.7770529593241452",
         "-0.1085783187004757",
         "0.7791423239044704",
         "-1.8971085607748124",
         "0.735137427940758",
         "-1.1155832703681732",
         "-0.371038674491646",
         "-0.2987545587662653",
         "-0.1412391188730786",
         "0.428272498108994",
         "1.336624620459025",
         "1.9472728440820573",
         "-0.4807003513776253",
         "-0.3133378370515337",
         "0.4311344857036734",
         "0.4876076468716573",
         "0.6848843626041434",
         "0.1148361182746464",
         "0.5359743475394775",
         "0.743337775067128",
         "0.2049518485585072"
        ],
        [
         "3",
         "297",
         "720",
         "DE",
         "-0.9833238837730476",
         "-0.8491980420890692",
         "-0.8395859313179942",
         "0.8395859313179942",
         "-0.2708698412875653",
         "0.5632299001791123",
         "0.2708698412875653",
         "-0.5632299001791123",
         "0.4878182213059783",
         "0.1946589624968633",
         "-1.473816723376251",
         "-0.786025037100165",
         "-0.368417177098884",
         "1.3204834896793642",
         "-0.2055467105736388",
         "-1.5895538879554696",
         "1.7515229138178283",
         "0.5629443640263518",
         "-0.0100900503049942",
         "0.3668850892530882",
         "-2.330557240406623",
         "-1.1918888309771851",
         "-0.9769740254515094",
         "-1.1148378621447017",
         "-0.507570197767219",
         "-0.4994093836370882",
         "-0.2362486647853328",
         "0.3509378227894972",
         "-0.4175144412603555",
         "0.9116520982212564",
         "-0.2961684423489058",
         "1.073947680274896"
        ],
        [
         "4",
         "1101",
         "818",
         "FR",
         "0.1438073786409816",
         "-0.617037662202979",
         "-0.924989989484042",
         "0.924989989484042",
         null,
         "0.990323600383574",
         null,
         "-0.990323600383574",
         "0.2386929728918584",
         "-0.2408619327881554",
         "1.003734269156524",
         "-0.2749747004973816",
         "-0.2301794742149784",
         "-0.7959829899476969",
         "-0.0055806041234046",
         "0.1769345725545251",
         "0.6935427203351894",
         "0.7235874438286344",
         "-0.7749409224764074",
         "-0.5644977000470582",
         "0.6910404147728033",
         "0.5716129204157725",
         "-0.5262670965987065",
         "-0.5414654077724332",
         "-0.4245497002743987",
         "-1.0881582553344111",
         "-1.0115596705829857",
         "0.6143383843048696",
         "0.7294951086825019",
         "0.2451089520167537",
         "1.5266058117761336",
         "2.614377951099151"
        ]
       ],
       "shape": {
        "columns": 35,
        "rows": 5
       }
      },
      "text/html": [
       "<div>\n",
       "<style scoped>\n",
       "    .dataframe tbody tr th:only-of-type {\n",
       "        vertical-align: middle;\n",
       "    }\n",
       "\n",
       "    .dataframe tbody tr th {\n",
       "        vertical-align: top;\n",
       "    }\n",
       "\n",
       "    .dataframe thead th {\n",
       "        text-align: right;\n",
       "    }\n",
       "</style>\n",
       "<table border=\"1\" class=\"dataframe\">\n",
       "  <thead>\n",
       "    <tr style=\"text-align: right;\">\n",
       "      <th></th>\n",
       "      <th>ID</th>\n",
       "      <th>DAY_ID</th>\n",
       "      <th>COUNTRY</th>\n",
       "      <th>DE_CONSUMPTION</th>\n",
       "      <th>FR_CONSUMPTION</th>\n",
       "      <th>DE_FR_EXCHANGE</th>\n",
       "      <th>FR_DE_EXCHANGE</th>\n",
       "      <th>DE_NET_EXPORT</th>\n",
       "      <th>FR_NET_EXPORT</th>\n",
       "      <th>DE_NET_IMPORT</th>\n",
       "      <th>...</th>\n",
       "      <th>FR_RESIDUAL_LOAD</th>\n",
       "      <th>DE_RAIN</th>\n",
       "      <th>FR_RAIN</th>\n",
       "      <th>DE_WIND</th>\n",
       "      <th>FR_WIND</th>\n",
       "      <th>DE_TEMP</th>\n",
       "      <th>FR_TEMP</th>\n",
       "      <th>GAS_RET</th>\n",
       "      <th>COAL_RET</th>\n",
       "      <th>CARBON_RET</th>\n",
       "    </tr>\n",
       "  </thead>\n",
       "  <tbody>\n",
       "    <tr>\n",
       "      <th>0</th>\n",
       "      <td>1054</td>\n",
       "      <td>206</td>\n",
       "      <td>FR</td>\n",
       "      <td>0.210099</td>\n",
       "      <td>-0.427458</td>\n",
       "      <td>-0.606523</td>\n",
       "      <td>0.606523</td>\n",
       "      <td>NaN</td>\n",
       "      <td>0.692860</td>\n",
       "      <td>NaN</td>\n",
       "      <td>...</td>\n",
       "      <td>-0.444661</td>\n",
       "      <td>-0.172680</td>\n",
       "      <td>-0.556356</td>\n",
       "      <td>-0.790823</td>\n",
       "      <td>-0.283160</td>\n",
       "      <td>-1.069070</td>\n",
       "      <td>-0.063404</td>\n",
       "      <td>0.339041</td>\n",
       "      <td>0.124552</td>\n",
       "      <td>-0.002445</td>\n",
       "    </tr>\n",
       "    <tr>\n",
       "      <th>1</th>\n",
       "      <td>2049</td>\n",
       "      <td>501</td>\n",
       "      <td>FR</td>\n",
       "      <td>-0.022399</td>\n",
       "      <td>-1.003452</td>\n",
       "      <td>-0.022063</td>\n",
       "      <td>0.022063</td>\n",
       "      <td>-0.573520</td>\n",
       "      <td>-1.130838</td>\n",
       "      <td>0.573520</td>\n",
       "      <td>...</td>\n",
       "      <td>-1.183194</td>\n",
       "      <td>-1.240300</td>\n",
       "      <td>-0.770457</td>\n",
       "      <td>1.522331</td>\n",
       "      <td>0.828412</td>\n",
       "      <td>0.437419</td>\n",
       "      <td>1.831241</td>\n",
       "      <td>-0.659091</td>\n",
       "      <td>0.047114</td>\n",
       "      <td>-0.490365</td>\n",
       "    </tr>\n",
       "    <tr>\n",
       "      <th>2</th>\n",
       "      <td>1924</td>\n",
       "      <td>687</td>\n",
       "      <td>FR</td>\n",
       "      <td>1.395035</td>\n",
       "      <td>1.978665</td>\n",
       "      <td>1.021305</td>\n",
       "      <td>-1.021305</td>\n",
       "      <td>-0.622021</td>\n",
       "      <td>-1.682587</td>\n",
       "      <td>0.622021</td>\n",
       "      <td>...</td>\n",
       "      <td>1.947273</td>\n",
       "      <td>-0.480700</td>\n",
       "      <td>-0.313338</td>\n",
       "      <td>0.431134</td>\n",
       "      <td>0.487608</td>\n",
       "      <td>0.684884</td>\n",
       "      <td>0.114836</td>\n",
       "      <td>0.535974</td>\n",
       "      <td>0.743338</td>\n",
       "      <td>0.204952</td>\n",
       "    </tr>\n",
       "    <tr>\n",
       "      <th>3</th>\n",
       "      <td>297</td>\n",
       "      <td>720</td>\n",
       "      <td>DE</td>\n",
       "      <td>-0.983324</td>\n",
       "      <td>-0.849198</td>\n",
       "      <td>-0.839586</td>\n",
       "      <td>0.839586</td>\n",
       "      <td>-0.270870</td>\n",
       "      <td>0.563230</td>\n",
       "      <td>0.270870</td>\n",
       "      <td>...</td>\n",
       "      <td>-0.976974</td>\n",
       "      <td>-1.114838</td>\n",
       "      <td>-0.507570</td>\n",
       "      <td>-0.499409</td>\n",
       "      <td>-0.236249</td>\n",
       "      <td>0.350938</td>\n",
       "      <td>-0.417514</td>\n",
       "      <td>0.911652</td>\n",
       "      <td>-0.296168</td>\n",
       "      <td>1.073948</td>\n",
       "    </tr>\n",
       "    <tr>\n",
       "      <th>4</th>\n",
       "      <td>1101</td>\n",
       "      <td>818</td>\n",
       "      <td>FR</td>\n",
       "      <td>0.143807</td>\n",
       "      <td>-0.617038</td>\n",
       "      <td>-0.924990</td>\n",
       "      <td>0.924990</td>\n",
       "      <td>NaN</td>\n",
       "      <td>0.990324</td>\n",
       "      <td>NaN</td>\n",
       "      <td>...</td>\n",
       "      <td>-0.526267</td>\n",
       "      <td>-0.541465</td>\n",
       "      <td>-0.424550</td>\n",
       "      <td>-1.088158</td>\n",
       "      <td>-1.011560</td>\n",
       "      <td>0.614338</td>\n",
       "      <td>0.729495</td>\n",
       "      <td>0.245109</td>\n",
       "      <td>1.526606</td>\n",
       "      <td>2.614378</td>\n",
       "    </tr>\n",
       "  </tbody>\n",
       "</table>\n",
       "<p>5 rows × 35 columns</p>\n",
       "</div>"
      ],
      "text/plain": [
       "     ID  DAY_ID COUNTRY  DE_CONSUMPTION  FR_CONSUMPTION  DE_FR_EXCHANGE  \\\n",
       "0  1054     206      FR        0.210099       -0.427458       -0.606523   \n",
       "1  2049     501      FR       -0.022399       -1.003452       -0.022063   \n",
       "2  1924     687      FR        1.395035        1.978665        1.021305   \n",
       "3   297     720      DE       -0.983324       -0.849198       -0.839586   \n",
       "4  1101     818      FR        0.143807       -0.617038       -0.924990   \n",
       "\n",
       "   FR_DE_EXCHANGE  DE_NET_EXPORT  FR_NET_EXPORT  DE_NET_IMPORT  ...  \\\n",
       "0        0.606523            NaN       0.692860            NaN  ...   \n",
       "1        0.022063      -0.573520      -1.130838       0.573520  ...   \n",
       "2       -1.021305      -0.622021      -1.682587       0.622021  ...   \n",
       "3        0.839586      -0.270870       0.563230       0.270870  ...   \n",
       "4        0.924990            NaN       0.990324            NaN  ...   \n",
       "\n",
       "   FR_RESIDUAL_LOAD   DE_RAIN   FR_RAIN   DE_WIND   FR_WIND   DE_TEMP  \\\n",
       "0         -0.444661 -0.172680 -0.556356 -0.790823 -0.283160 -1.069070   \n",
       "1         -1.183194 -1.240300 -0.770457  1.522331  0.828412  0.437419   \n",
       "2          1.947273 -0.480700 -0.313338  0.431134  0.487608  0.684884   \n",
       "3         -0.976974 -1.114838 -0.507570 -0.499409 -0.236249  0.350938   \n",
       "4         -0.526267 -0.541465 -0.424550 -1.088158 -1.011560  0.614338   \n",
       "\n",
       "    FR_TEMP   GAS_RET  COAL_RET  CARBON_RET  \n",
       "0 -0.063404  0.339041  0.124552   -0.002445  \n",
       "1  1.831241 -0.659091  0.047114   -0.490365  \n",
       "2  0.114836  0.535974  0.743338    0.204952  \n",
       "3 -0.417514  0.911652 -0.296168    1.073948  \n",
       "4  0.729495  0.245109  1.526606    2.614378  \n",
       "\n",
       "[5 rows x 35 columns]"
      ]
     },
     "execution_count": 3,
     "metadata": {},
     "output_type": "execute_result"
    }
   ],
   "source": [
    "X_train.head()"
   ]
  },
  {
   "cell_type": "code",
   "execution_count": 4,
   "metadata": {},
   "outputs": [
    {
     "data": {
      "application/vnd.microsoft.datawrangler.viewer.v0+json": {
       "columns": [
        {
         "name": "index",
         "rawType": "int64",
         "type": "integer"
        },
        {
         "name": "ID",
         "rawType": "int64",
         "type": "integer"
        },
        {
         "name": "TARGET",
         "rawType": "float64",
         "type": "float"
        }
       ],
       "conversionMethod": "pd.DataFrame",
       "ref": "1fc5f876-51db-4656-b895-29fff64e21d4",
       "rows": [
        [
         "0",
         "1054",
         "0.0283133812568542"
        ],
        [
         "1",
         "2049",
         "-0.112516364811792"
        ],
        [
         "2",
         "1924",
         "-0.1808399597862505"
        ],
        [
         "3",
         "297",
         "-0.2603561005917882"
        ],
        [
         "4",
         "1101",
         "-0.0717326120736016"
        ]
       ],
       "shape": {
        "columns": 2,
        "rows": 5
       }
      },
      "text/html": [
       "<div>\n",
       "<style scoped>\n",
       "    .dataframe tbody tr th:only-of-type {\n",
       "        vertical-align: middle;\n",
       "    }\n",
       "\n",
       "    .dataframe tbody tr th {\n",
       "        vertical-align: top;\n",
       "    }\n",
       "\n",
       "    .dataframe thead th {\n",
       "        text-align: right;\n",
       "    }\n",
       "</style>\n",
       "<table border=\"1\" class=\"dataframe\">\n",
       "  <thead>\n",
       "    <tr style=\"text-align: right;\">\n",
       "      <th></th>\n",
       "      <th>ID</th>\n",
       "      <th>TARGET</th>\n",
       "    </tr>\n",
       "  </thead>\n",
       "  <tbody>\n",
       "    <tr>\n",
       "      <th>0</th>\n",
       "      <td>1054</td>\n",
       "      <td>0.028313</td>\n",
       "    </tr>\n",
       "    <tr>\n",
       "      <th>1</th>\n",
       "      <td>2049</td>\n",
       "      <td>-0.112516</td>\n",
       "    </tr>\n",
       "    <tr>\n",
       "      <th>2</th>\n",
       "      <td>1924</td>\n",
       "      <td>-0.180840</td>\n",
       "    </tr>\n",
       "    <tr>\n",
       "      <th>3</th>\n",
       "      <td>297</td>\n",
       "      <td>-0.260356</td>\n",
       "    </tr>\n",
       "    <tr>\n",
       "      <th>4</th>\n",
       "      <td>1101</td>\n",
       "      <td>-0.071733</td>\n",
       "    </tr>\n",
       "  </tbody>\n",
       "</table>\n",
       "</div>"
      ],
      "text/plain": [
       "     ID    TARGET\n",
       "0  1054  0.028313\n",
       "1  2049 -0.112516\n",
       "2  1924 -0.180840\n",
       "3   297 -0.260356\n",
       "4  1101 -0.071733"
      ]
     },
     "execution_count": 4,
     "metadata": {},
     "output_type": "execute_result"
    }
   ],
   "source": [
    "Y_train.head()"
   ]
  },
  {
   "cell_type": "markdown",
   "metadata": {},
   "source": [
    "## Model and train score\n",
    "\n",
    "The benchark for this challenge consists in a simple linear regression, after a light cleaning of the data: The missing (NaN) values are simply filled with 0's and the `COUNTRY` column is dropped - namely we used the same model for France and Germany. "
   ]
  },
  {
   "cell_type": "code",
   "execution_count": 5,
   "metadata": {},
   "outputs": [
    {
     "name": "stdout",
     "output_type": "stream",
     "text": [
      "Spearman correlation for the train set: 27.9%\n"
     ]
    }
   ],
   "source": [
    "lr = LinearRegression()\n",
    "\n",
    "X_train_clean = X_train.drop(['COUNTRY'], axis=1).fillna(0)\n",
    "Y_train_clean = Y_train['TARGET']\n",
    "\n",
    "lr.fit(X_train_clean, Y_train_clean)\n",
    "\n",
    "output_train = lr.predict(X_train_clean)\n",
    "\n",
    "def metric_train(output):\n",
    "\n",
    "    return  spearmanr(output, Y_train_clean).correlation\n",
    "\n",
    "print('Spearman correlation for the train set: {:.1f}%'.format(100 * metric_train(output_train) ))"
   ]
  },
  {
   "cell_type": "markdown",
   "metadata": {},
   "source": [
    "The Spearman correlation obtained with our model on the train data set is about 27.9%.\n",
    "\n",
    "NB: Electricity price variations can be quite volatile and this is why we have chosen the Spearman rank correlation as a robust metric for the challenge, instead of the more standard Pearson correlation."
   ]
  },
  {
   "cell_type": "markdown",
   "metadata": {},
   "source": [
    "## Generate the benchmark output\n",
    "\n",
    "Next, we process the test set the same way as we did on the train set and predict using our linear model, while saving the predictions to a csv file satisfying the challenge output contraints.\n"
   ]
  },
  {
   "cell_type": "code",
   "execution_count": 6,
   "metadata": {},
   "outputs": [
    {
     "data": {
      "application/vnd.microsoft.datawrangler.viewer.v0+json": {
       "columns": [
        {
         "name": "index",
         "rawType": "int64",
         "type": "integer"
        },
        {
         "name": "ID",
         "rawType": "int64",
         "type": "integer"
        },
        {
         "name": "DAY_ID",
         "rawType": "int64",
         "type": "integer"
        },
        {
         "name": "COUNTRY",
         "rawType": "object",
         "type": "string"
        },
        {
         "name": "DE_CONSUMPTION",
         "rawType": "float64",
         "type": "float"
        },
        {
         "name": "FR_CONSUMPTION",
         "rawType": "float64",
         "type": "float"
        },
        {
         "name": "DE_FR_EXCHANGE",
         "rawType": "float64",
         "type": "float"
        },
        {
         "name": "FR_DE_EXCHANGE",
         "rawType": "float64",
         "type": "float"
        },
        {
         "name": "DE_NET_EXPORT",
         "rawType": "float64",
         "type": "float"
        },
        {
         "name": "FR_NET_EXPORT",
         "rawType": "float64",
         "type": "float"
        },
        {
         "name": "DE_NET_IMPORT",
         "rawType": "float64",
         "type": "float"
        },
        {
         "name": "FR_NET_IMPORT",
         "rawType": "float64",
         "type": "float"
        },
        {
         "name": "DE_GAS",
         "rawType": "float64",
         "type": "float"
        },
        {
         "name": "FR_GAS",
         "rawType": "float64",
         "type": "float"
        },
        {
         "name": "DE_COAL",
         "rawType": "float64",
         "type": "float"
        },
        {
         "name": "FR_COAL",
         "rawType": "float64",
         "type": "float"
        },
        {
         "name": "DE_HYDRO",
         "rawType": "float64",
         "type": "float"
        },
        {
         "name": "FR_HYDRO",
         "rawType": "float64",
         "type": "float"
        },
        {
         "name": "DE_NUCLEAR",
         "rawType": "float64",
         "type": "float"
        },
        {
         "name": "FR_NUCLEAR",
         "rawType": "float64",
         "type": "float"
        },
        {
         "name": "DE_SOLAR",
         "rawType": "float64",
         "type": "float"
        },
        {
         "name": "FR_SOLAR",
         "rawType": "float64",
         "type": "float"
        },
        {
         "name": "DE_WINDPOW",
         "rawType": "float64",
         "type": "float"
        },
        {
         "name": "FR_WINDPOW",
         "rawType": "float64",
         "type": "float"
        },
        {
         "name": "DE_LIGNITE",
         "rawType": "float64",
         "type": "float"
        },
        {
         "name": "DE_RESIDUAL_LOAD",
         "rawType": "float64",
         "type": "float"
        },
        {
         "name": "FR_RESIDUAL_LOAD",
         "rawType": "float64",
         "type": "float"
        },
        {
         "name": "DE_RAIN",
         "rawType": "float64",
         "type": "float"
        },
        {
         "name": "FR_RAIN",
         "rawType": "float64",
         "type": "float"
        },
        {
         "name": "DE_WIND",
         "rawType": "float64",
         "type": "float"
        },
        {
         "name": "FR_WIND",
         "rawType": "float64",
         "type": "float"
        },
        {
         "name": "DE_TEMP",
         "rawType": "float64",
         "type": "float"
        },
        {
         "name": "FR_TEMP",
         "rawType": "float64",
         "type": "float"
        },
        {
         "name": "GAS_RET",
         "rawType": "float64",
         "type": "float"
        },
        {
         "name": "COAL_RET",
         "rawType": "float64",
         "type": "float"
        },
        {
         "name": "CARBON_RET",
         "rawType": "float64",
         "type": "float"
        }
       ],
       "conversionMethod": "pd.DataFrame",
       "ref": "1dbb268b-b26d-4189-a5cf-de4cd5de4de2",
       "rows": [
        [
         "0",
         "1115",
         "241",
         "FR",
         "0.3400826794875101",
         "-0.4336043466297032",
         "-0.4235210096187532",
         "0.4235210096187532",
         "0.1653327520032103",
         "0.5194186018162624",
         "-0.1653327520032103",
         "-0.5194186018162624",
         "1.5249634879684606",
         "0.4238452017089328",
         "2.1370164031202603",
         "0.478424310650873",
         "0.7762458862350942",
         "-0.3711839685069337",
         "0.0696964539131352",
         "0.057825721704941",
         "0.0050999295206447",
         "-0.2762105776871472",
         "-1.1457649831067986",
         "-0.8275043772526783",
         "0.7782291787097543",
         "1.2462683605169245",
         "-0.2225246620597014",
         "-0.5131804995120702",
         "-0.1820478839748999",
         "-0.9825458499987716",
         "-0.8766317685817324",
         "0.8804911529167728",
         "0.6922420233247325",
         "0.5694191421110083",
         "-0.0296971189260259",
         "-0.9292563848266238"
        ],
        [
         "1",
         "1202",
         "1214",
         "FR",
         "0.8032088449871649",
         "0.7804113326459632",
         "0.601610267339499",
         "-0.601610267339499",
         "0.3428015669855021",
         "0.5553673149090605",
         "-0.3428015669855021",
         "-0.5553673149090605",
         "1.064101698120297",
         "1.8072561588977816",
         "0.089533657238656",
         "-0.792111347339238",
         "1.549245051120656",
         "0.1078818047286947",
         "0.8263723775585543",
         "0.7466276988325738",
         "0.5851330308762591",
         "1.0349429403181494",
         "-0.2117259068343147",
         "-0.698174647552394",
         "0.7276221645613616",
         "0.5532140282935876",
         "0.8577393885684599",
         "-0.3405951452662075",
         "-0.3010935418170785",
         "-0.7598159849535416",
         "-1.2214431007797262",
         "-0.6166166547465751",
         "-0.7374963375110904",
         "0.2512512012858477",
         "0.7536458726806572",
         "0.6640864176631015"
        ],
        [
         "2",
         "1194",
         "1047",
         "FR",
         "0.7955397453609361",
         "0.721954478004499",
         "1.1791581995033793",
         "-1.1791581995033793",
         "1.6209280340040435",
         "0.6669008972901065",
         "-1.6209280340040435",
         "-0.6669008972901065",
         "0.1280037280103622",
         "-0.0433002956161001",
         "-0.8295458669408623",
         "-0.7851525608482772",
         "0.4195034271798537",
         "0.0144813478452606",
         "0.4445624193705861",
         "1.0000649235191654",
         "-0.42706843348161",
         "-0.0117823323883596",
         "2.3736430384688414",
         "1.248550887624034",
         "-1.4405632275966345",
         "-1.3986745750591212",
         "0.4479673113066026",
         "0.7964748560645877",
         "-0.3672480362047839",
         "0.3760546214785973",
         "-0.4833633810910126",
         "0.8651379241886711",
         "0.1200790994466756",
         "-1.4856417997608369",
         "-0.3264499804108423",
         "-0.3497469845225324"
        ],
        [
         "3",
         "1084",
         "1139",
         "FR",
         "0.1725548729940515",
         "-0.7234271181521575",
         "-0.0445391429541971",
         "0.0445391429541971",
         null,
         "-0.2052758254384774",
         null,
         "0.2052758254384774",
         "1.0460693231361489",
         "-0.1741496949314584",
         "0.8884293093728493",
         "-0.2837940688748984",
         "1.864138875555955",
         "0.1148293637340894",
         "0.6167786601345804",
         "-0.7798134410790616",
         "0.7271030906099331",
         "1.0184752860769457",
         "-1.1462511833017752",
         "-0.9999957694459746",
         "0.792427905974871",
         "0.9058639564363306",
         "-0.5612946791948309",
         "-0.5426063896288676",
         "-0.01329087029998",
         "-0.7911186526039299",
         "-0.8943094806239398",
         "0.2391525803055348",
         "0.4574571443908447",
         "-0.7468633506439",
         "2.262654121823913",
         "0.6420692402858221"
        ],
        [
         "4",
         "1135",
         "842",
         "FR",
         "0.9497140771311672",
         "0.4202357184632296",
         "0.6173912157305783",
         "-0.6173912157305783",
         "0.6085607983313515",
         "-0.2408555627915268",
         "-0.6085607983313515",
         "0.2408555627915268",
         "1.3767527379871656",
         "1.4139665165405484",
         "1.7036352176591625",
         "-0.2396762034631724",
         "0.815007326497827",
         "0.1792016559004378",
         "0.7026909912478598",
         "0.1695553298318667",
         "-0.8734724453504058",
         "-0.5380518435189888",
         "-0.2740328758596496",
         "-0.2152496394608663",
         "0.923490169464252",
         "1.1679854008807824",
         "0.5035667981651254",
         "-0.2302914694322597",
         "-0.6092027080222219",
         "-0.7449863943070885",
         "-1.1962816303089032",
         "0.1765566793525192",
         "0.3125569677721763",
         "-2.219625507859327",
         "-0.509271871383272",
         "-0.4883411299938366"
        ]
       ],
       "shape": {
        "columns": 35,
        "rows": 5
       }
      },
      "text/html": [
       "<div>\n",
       "<style scoped>\n",
       "    .dataframe tbody tr th:only-of-type {\n",
       "        vertical-align: middle;\n",
       "    }\n",
       "\n",
       "    .dataframe tbody tr th {\n",
       "        vertical-align: top;\n",
       "    }\n",
       "\n",
       "    .dataframe thead th {\n",
       "        text-align: right;\n",
       "    }\n",
       "</style>\n",
       "<table border=\"1\" class=\"dataframe\">\n",
       "  <thead>\n",
       "    <tr style=\"text-align: right;\">\n",
       "      <th></th>\n",
       "      <th>ID</th>\n",
       "      <th>DAY_ID</th>\n",
       "      <th>COUNTRY</th>\n",
       "      <th>DE_CONSUMPTION</th>\n",
       "      <th>FR_CONSUMPTION</th>\n",
       "      <th>DE_FR_EXCHANGE</th>\n",
       "      <th>FR_DE_EXCHANGE</th>\n",
       "      <th>DE_NET_EXPORT</th>\n",
       "      <th>FR_NET_EXPORT</th>\n",
       "      <th>DE_NET_IMPORT</th>\n",
       "      <th>...</th>\n",
       "      <th>FR_RESIDUAL_LOAD</th>\n",
       "      <th>DE_RAIN</th>\n",
       "      <th>FR_RAIN</th>\n",
       "      <th>DE_WIND</th>\n",
       "      <th>FR_WIND</th>\n",
       "      <th>DE_TEMP</th>\n",
       "      <th>FR_TEMP</th>\n",
       "      <th>GAS_RET</th>\n",
       "      <th>COAL_RET</th>\n",
       "      <th>CARBON_RET</th>\n",
       "    </tr>\n",
       "  </thead>\n",
       "  <tbody>\n",
       "    <tr>\n",
       "      <th>0</th>\n",
       "      <td>1115</td>\n",
       "      <td>241</td>\n",
       "      <td>FR</td>\n",
       "      <td>0.340083</td>\n",
       "      <td>-0.433604</td>\n",
       "      <td>-0.423521</td>\n",
       "      <td>0.423521</td>\n",
       "      <td>0.165333</td>\n",
       "      <td>0.519419</td>\n",
       "      <td>-0.165333</td>\n",
       "      <td>...</td>\n",
       "      <td>-0.222525</td>\n",
       "      <td>-0.513180</td>\n",
       "      <td>-0.182048</td>\n",
       "      <td>-0.982546</td>\n",
       "      <td>-0.876632</td>\n",
       "      <td>0.880491</td>\n",
       "      <td>0.692242</td>\n",
       "      <td>0.569419</td>\n",
       "      <td>-0.029697</td>\n",
       "      <td>-0.929256</td>\n",
       "    </tr>\n",
       "    <tr>\n",
       "      <th>1</th>\n",
       "      <td>1202</td>\n",
       "      <td>1214</td>\n",
       "      <td>FR</td>\n",
       "      <td>0.803209</td>\n",
       "      <td>0.780411</td>\n",
       "      <td>0.601610</td>\n",
       "      <td>-0.601610</td>\n",
       "      <td>0.342802</td>\n",
       "      <td>0.555367</td>\n",
       "      <td>-0.342802</td>\n",
       "      <td>...</td>\n",
       "      <td>0.857739</td>\n",
       "      <td>-0.340595</td>\n",
       "      <td>-0.301094</td>\n",
       "      <td>-0.759816</td>\n",
       "      <td>-1.221443</td>\n",
       "      <td>-0.616617</td>\n",
       "      <td>-0.737496</td>\n",
       "      <td>0.251251</td>\n",
       "      <td>0.753646</td>\n",
       "      <td>0.664086</td>\n",
       "    </tr>\n",
       "    <tr>\n",
       "      <th>2</th>\n",
       "      <td>1194</td>\n",
       "      <td>1047</td>\n",
       "      <td>FR</td>\n",
       "      <td>0.795540</td>\n",
       "      <td>0.721954</td>\n",
       "      <td>1.179158</td>\n",
       "      <td>-1.179158</td>\n",
       "      <td>1.620928</td>\n",
       "      <td>0.666901</td>\n",
       "      <td>-1.620928</td>\n",
       "      <td>...</td>\n",
       "      <td>0.447967</td>\n",
       "      <td>0.796475</td>\n",
       "      <td>-0.367248</td>\n",
       "      <td>0.376055</td>\n",
       "      <td>-0.483363</td>\n",
       "      <td>0.865138</td>\n",
       "      <td>0.120079</td>\n",
       "      <td>-1.485642</td>\n",
       "      <td>-0.326450</td>\n",
       "      <td>-0.349747</td>\n",
       "    </tr>\n",
       "    <tr>\n",
       "      <th>3</th>\n",
       "      <td>1084</td>\n",
       "      <td>1139</td>\n",
       "      <td>FR</td>\n",
       "      <td>0.172555</td>\n",
       "      <td>-0.723427</td>\n",
       "      <td>-0.044539</td>\n",
       "      <td>0.044539</td>\n",
       "      <td>NaN</td>\n",
       "      <td>-0.205276</td>\n",
       "      <td>NaN</td>\n",
       "      <td>...</td>\n",
       "      <td>-0.561295</td>\n",
       "      <td>-0.542606</td>\n",
       "      <td>-0.013291</td>\n",
       "      <td>-0.791119</td>\n",
       "      <td>-0.894309</td>\n",
       "      <td>0.239153</td>\n",
       "      <td>0.457457</td>\n",
       "      <td>-0.746863</td>\n",
       "      <td>2.262654</td>\n",
       "      <td>0.642069</td>\n",
       "    </tr>\n",
       "    <tr>\n",
       "      <th>4</th>\n",
       "      <td>1135</td>\n",
       "      <td>842</td>\n",
       "      <td>FR</td>\n",
       "      <td>0.949714</td>\n",
       "      <td>0.420236</td>\n",
       "      <td>0.617391</td>\n",
       "      <td>-0.617391</td>\n",
       "      <td>0.608561</td>\n",
       "      <td>-0.240856</td>\n",
       "      <td>-0.608561</td>\n",
       "      <td>...</td>\n",
       "      <td>0.503567</td>\n",
       "      <td>-0.230291</td>\n",
       "      <td>-0.609203</td>\n",
       "      <td>-0.744986</td>\n",
       "      <td>-1.196282</td>\n",
       "      <td>0.176557</td>\n",
       "      <td>0.312557</td>\n",
       "      <td>-2.219626</td>\n",
       "      <td>-0.509272</td>\n",
       "      <td>-0.488341</td>\n",
       "    </tr>\n",
       "  </tbody>\n",
       "</table>\n",
       "<p>5 rows × 35 columns</p>\n",
       "</div>"
      ],
      "text/plain": [
       "     ID  DAY_ID COUNTRY  DE_CONSUMPTION  FR_CONSUMPTION  DE_FR_EXCHANGE  \\\n",
       "0  1115     241      FR        0.340083       -0.433604       -0.423521   \n",
       "1  1202    1214      FR        0.803209        0.780411        0.601610   \n",
       "2  1194    1047      FR        0.795540        0.721954        1.179158   \n",
       "3  1084    1139      FR        0.172555       -0.723427       -0.044539   \n",
       "4  1135     842      FR        0.949714        0.420236        0.617391   \n",
       "\n",
       "   FR_DE_EXCHANGE  DE_NET_EXPORT  FR_NET_EXPORT  DE_NET_IMPORT  ...  \\\n",
       "0        0.423521       0.165333       0.519419      -0.165333  ...   \n",
       "1       -0.601610       0.342802       0.555367      -0.342802  ...   \n",
       "2       -1.179158       1.620928       0.666901      -1.620928  ...   \n",
       "3        0.044539            NaN      -0.205276            NaN  ...   \n",
       "4       -0.617391       0.608561      -0.240856      -0.608561  ...   \n",
       "\n",
       "   FR_RESIDUAL_LOAD   DE_RAIN   FR_RAIN   DE_WIND   FR_WIND   DE_TEMP  \\\n",
       "0         -0.222525 -0.513180 -0.182048 -0.982546 -0.876632  0.880491   \n",
       "1          0.857739 -0.340595 -0.301094 -0.759816 -1.221443 -0.616617   \n",
       "2          0.447967  0.796475 -0.367248  0.376055 -0.483363  0.865138   \n",
       "3         -0.561295 -0.542606 -0.013291 -0.791119 -0.894309  0.239153   \n",
       "4          0.503567 -0.230291 -0.609203 -0.744986 -1.196282  0.176557   \n",
       "\n",
       "    FR_TEMP   GAS_RET  COAL_RET  CARBON_RET  \n",
       "0  0.692242  0.569419 -0.029697   -0.929256  \n",
       "1 -0.737496  0.251251  0.753646    0.664086  \n",
       "2  0.120079 -1.485642 -0.326450   -0.349747  \n",
       "3  0.457457 -0.746863  2.262654    0.642069  \n",
       "4  0.312557 -2.219626 -0.509272   -0.488341  \n",
       "\n",
       "[5 rows x 35 columns]"
      ]
     },
     "execution_count": 6,
     "metadata": {},
     "output_type": "execute_result"
    }
   ],
   "source": [
    "X_test.head()"
   ]
  },
  {
   "cell_type": "code",
   "execution_count": 18,
   "metadata": {},
   "outputs": [],
   "source": [
    "X_test_clean = X_test.drop(['COUNTRY'], axis=1).fillna(0)\n",
    "\n",
    "Y_test_submission = X_test[['ID']].copy()\n",
    "Y_test_submission['TARGET'] = lr.predict(X_test_clean)\n",
    "\n",
    "Y_test_submission.to_csv('benchmark_qrt.csv', index=False)\n"
   ]
  },
  {
   "cell_type": "markdown",
   "metadata": {},
   "source": [
    "After submitting this benchmark_qrt.csv file at https://challengedata.ens.fr, we obtain a public score of around 15.9 % - this is the score to beat!\n"
   ]
  },
  {
   "cell_type": "markdown",
   "metadata": {},
   "source": [
    "## Tips and ideas for improvements \n",
    "\n",
    "- Thinking about the fundamental price drivers of electricity in each country may be useful. \n",
    "\n",
    "- The dataset is small, so you will need to be careful not to overfit your models. It will be useful to use good crossvalidation practices. \n"
   ]
  },
  {
   "cell_type": "markdown",
   "metadata": {},
   "source": []
  }
 ],
 "metadata": {
  "hide_input": false,
  "kernelspec": {
   "display_name": "base",
   "language": "python",
   "name": "python3"
  },
  "language_info": {
   "codemirror_mode": {
    "name": "ipython",
    "version": 3
   },
   "file_extension": ".py",
   "mimetype": "text/x-python",
   "name": "python",
   "nbconvert_exporter": "python",
   "pygments_lexer": "ipython3",
   "version": "3.11.5"
  },
  "toc": {
   "base_numbering": 1,
   "nav_menu": {},
   "number_sections": true,
   "sideBar": true,
   "skip_h1_title": false,
   "title_cell": "Table of Contents",
   "title_sidebar": "Contents",
   "toc_cell": false,
   "toc_position": {},
   "toc_section_display": true,
   "toc_window_display": false
  }
 },
 "nbformat": 4,
 "nbformat_minor": 2
}
