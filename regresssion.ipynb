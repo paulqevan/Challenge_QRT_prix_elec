{
 "cells": [
  {
   "cell_type": "code",
   "execution_count": null,
   "id": "592e3f8e",
   "metadata": {},
   "outputs": [
    {
     "name": "stdout",
     "output_type": "stream",
     "text": [
      "Valeur RMSE sans validation croisée : 1.0944930936351775\n",
      "Corrélation de Spearman : 0.2007\n"
     ]
    }
   ],
   "source": [
    "import pandas as pd \n",
    "from sklearn.model_selection import train_test_split\n",
    "from sklearn.pipeline import Pipeline\n",
    "from sklearn.compose import ColumnTransformer, make_column_transformer, make_column_selector\n",
    "from sklearn.impute import SimpleImputer\n",
    "from sklearn.preprocessing import StandardScaler, OneHotEncoder\n",
    "import numpy as np\n",
    "from sklearn.linear_model import LinearRegression\n",
    "from sklearn.metrics import mean_squared_error\n",
    "from scipy.stats import spearmanr\n",
    "from sklearn.model_selection import cross_val_score\n",
    "from sklearn.model_selection import cross_val_predict\n",
    "from scipy.stats import spearmanr\n",
    "\n",
    "\n",
    "# importations des datasets kjgkjhg\n",
    "\n",
    "data_X_train = pd.read_csv(\"X_train.csv\")\n",
    "data_y_train = pd.read_csv(\"y_train.csv\")\n",
    "data_X_test = pd.read_csv(\"X_test_final.csv\")\n",
    "data_y_test = pd.read_csv(\"y_test_random_final.csv\")\n",
    "\n",
    "X = data_X_train.drop(columns=[\"ID\",\"COUNTRY\"]).copy()\n",
    "y=data_y_train[\"TARGET\"].copy()\n",
    "\n",
    "#séparation \n",
    "X_train, X_test, y_train, y_test = train_test_split(X, y, test_size=0.2, random_state=42)\n",
    "\n",
    "num_columns = X_train.select_dtypes(include=[\"int64\", \"float64\"]).columns\n",
    "cat_columns = X_train.select_dtypes(include=[\"object\"]).columns\n",
    "\n",
    "num_pipeline = Pipeline([\n",
    "    (\"imputer\", SimpleImputer(strategy=\"mean\")),\n",
    "    (\"scaler\", StandardScaler())\n",
    "])\n",
    "\n",
    "cat_pipeline = Pipeline([\n",
    "    (\"imputer\", SimpleImputer(strategy=\"most_frequent\")),\n",
    "    (\"onehot\", OneHotEncoder(handle_unknown=\"ignore\"))\n",
    "])\n",
    "\n",
    "preprocessing = make_column_transformer(\n",
    "    (num_pipeline, make_column_selector(dtype_include=np.number)),\n",
    "    (cat_pipeline, make_column_selector(dtype_include=object)),\n",
    ")\n",
    "\n",
    "model_pipeline = Pipeline([\n",
    "    (\"preprocessing\", preprocessing),\n",
    "    (\"lregression\", LinearRegression())\n",
    "])\n",
    "\n",
    "model_pipeline.fit(X_train, y_train)\n",
    "y_pred = model_pipeline.predict(X_test)\n",
    "\n",
    "# métriques \n",
    "\n",
    "rmse = np.sqrt(mean_squared_error(y_test, y_pred))\n",
    "print(\"Valeur RMSE sans validation croisée :\", rmse)\n",
    "corr, p_value = spearmanr(y_test, y_pred)\n",
    "print(f\"Corrélation de Spearman : {corr:.4f}\")"
   ]
  },
  {
   "cell_type": "code",
   "execution_count": 36,
   "id": "b7269621",
   "metadata": {},
   "outputs": [
    {
     "name": "stdout",
     "output_type": "stream",
     "text": [
      "RMSE par fold : [1.13464494 1.00512516 0.97709084 0.9592716  0.99570123]\n",
      "Moyenne RMSE après validation croisée : 1.0143667556253755\n",
      "Corrélation de Spearman en validation croisée : 0.2095\n"
     ]
    }
   ],
   "source": [
    "scores = cross_val_score(model_pipeline, X_train, y_train,\n",
    "                         cv=5,  \n",
    "                         scoring=\"neg_root_mean_squared_error\")  \n",
    "\n",
    "rmse_scores = -scores\n",
    "print(\"RMSE par fold :\", rmse_scores)\n",
    "print(\"Moyenne RMSE après validation croisée :\", rmse_scores.mean())\n",
    "\n",
    "y_pred_cv = cross_val_predict(model_pipeline, X_train, y_train, cv=5)\n",
    "\n",
    "# Corrélation de Spearman entre les vraies valeurs et les prédictions croisées\n",
    "corr, p_value = spearmanr(y_train, y_pred_cv)\n",
    "\n",
    "print(f\"Corrélation de Spearman en validation croisée : {corr:.4f}\")"
   ]
  },
  {
   "cell_type": "code",
   "execution_count": null,
   "id": "1a910336",
   "metadata": {},
   "outputs": [
    {
     "name": "stdout",
     "output_type": "stream",
     "text": [
      "Corrélation de Spearman sur le test final : -0.0135\n",
      "p-value : 0.7304\n"
     ]
    }
   ],
   "source": [
    "# Prédiction sur le vrai jeu de test\n",
    "y_pred_test_final = model_pipeline.predict(data_X_test)\n",
    "\n",
    "corr_final, p_value_final = spearmanr(data_y_test[\"TARGET\"], y_pred_test_final)\n",
    "\n",
    "print(f\"Corrélation de Spearman sur le test final : {corr_final:.4f}\")\n",
    "print(f\"p-value : {p_value_final:.4f}\")\n"
   ]
  }
 ],
 "metadata": {
  "kernelspec": {
   "display_name": "Python 3",
   "language": "python",
   "name": "python3"
  },
  "language_info": {
   "codemirror_mode": {
    "name": "ipython",
    "version": 3
   },
   "file_extension": ".py",
   "mimetype": "text/x-python",
   "name": "python",
   "nbconvert_exporter": "python",
   "pygments_lexer": "ipython3",
   "version": "3.12.10"
  }
 },
 "nbformat": 4,
 "nbformat_minor": 5
}
