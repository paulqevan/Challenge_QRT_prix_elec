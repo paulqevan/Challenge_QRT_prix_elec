{
 "cells": [
  {
   "cell_type": "code",
   "execution_count": 1,
   "id": "83862b26",
   "metadata": {},
   "outputs": [
    {
     "name": "stdout",
     "output_type": "stream",
     "text": [
      "Valeur RMSE avec Random Forest : 1.192702469134948\n",
      "Corrélation de Spearman : 0.1577\n"
     ]
    }
   ],
   "source": [
    "import pandas as pd \n",
    "from sklearn.model_selection import train_test_split\n",
    "from sklearn.pipeline import Pipeline\n",
    "from sklearn.compose import make_column_transformer, make_column_selector\n",
    "from sklearn.impute import SimpleImputer\n",
    "from sklearn.preprocessing import StandardScaler, OneHotEncoder\n",
    "from sklearn.ensemble import RandomForestRegressor\n",
    "from sklearn.metrics import mean_squared_error\n",
    "from scipy.stats import spearmanr\n",
    "import numpy as np\n",
    "\n",
    "# importations des datasets \n",
    "data_X_train = pd.read_csv(\"X_train.csv\")\n",
    "data_y_train = pd.read_csv(\"y_train.csv\")\n",
    "data_X_test = pd.read_csv(\"X_test_final.csv\")\n",
    "data_y_test = pd.read_csv(\"y_test_random_final.csv\")\n",
    "\n",
    "# préparation des données\n",
    "X = data_X_train.drop(columns=[\"ID\", \"COUNTRY\"]).copy()\n",
    "y = data_y_train[\"TARGET\"].copy()\n",
    "\n",
    "X_train, X_test, y_train, y_test = train_test_split(X, y, test_size=0.2, random_state=42)\n",
    "\n",
    "num_pipeline = Pipeline([\n",
    "    (\"imputer\", SimpleImputer(strategy=\"mean\")),\n",
    "    (\"scaler\", StandardScaler())\n",
    "])\n",
    "\n",
    "cat_pipeline = Pipeline([\n",
    "    (\"imputer\", SimpleImputer(strategy=\"most_frequent\")),\n",
    "    (\"onehot\", OneHotEncoder(handle_unknown=\"ignore\"))\n",
    "])\n",
    "\n",
    "preprocessing = make_column_transformer(\n",
    "    (num_pipeline, make_column_selector(dtype_include=np.number)),\n",
    "    (cat_pipeline, make_column_selector(dtype_include=object)),\n",
    ")\n",
    "\n",
    "# forêts aléatoires\n",
    "model_pipeline = Pipeline([\n",
    "    (\"preprocessing\", preprocessing),\n",
    "    (\"randomforest\", RandomForestRegressor(n_estimators=100, random_state=42))\n",
    "])\n",
    "\n",
    "# Entraînement\n",
    "model_pipeline.fit(X_train, y_train)\n",
    "\n",
    "# Prédiction\n",
    "y_pred = model_pipeline.predict(X_test)\n",
    "\n",
    "# Évaluation\n",
    "rmse = np.sqrt(mean_squared_error(y_test, y_pred))\n",
    "print(\"Valeur RMSE avec Random Forest :\", rmse)\n",
    "\n",
    "corr, p_value = spearmanr(y_test, y_pred)\n",
    "print(f\"Corrélation de Spearman : {corr:.4f}\")\n"
   ]
  }
 ],
 "metadata": {
  "kernelspec": {
   "display_name": "Python 3",
   "language": "python",
   "name": "python3"
  },
  "language_info": {
   "codemirror_mode": {
    "name": "ipython",
    "version": 3
   },
   "file_extension": ".py",
   "mimetype": "text/x-python",
   "name": "python",
   "nbconvert_exporter": "python",
   "pygments_lexer": "ipython3",
   "version": "3.12.10"
  }
 },
 "nbformat": 4,
 "nbformat_minor": 5
}
