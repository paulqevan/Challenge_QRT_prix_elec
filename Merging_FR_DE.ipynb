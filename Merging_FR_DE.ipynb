{
 "cells": [
  {
   "cell_type": "code",
   "execution_count": 14,
   "id": "52f226e6",
   "metadata": {},
   "outputs": [
    {
     "data": {
      "application/vnd.microsoft.datawrangler.viewer.v0+json": {
       "columns": [
        {
         "name": "index",
         "rawType": "object",
         "type": "string"
        },
        {
         "name": "ID",
         "rawType": "float64",
         "type": "float"
        },
        {
         "name": "TARGET",
         "rawType": "float64",
         "type": "float"
        }
       ],
       "ref": "dbf079cd-e398-477a-bae6-c7180b0b9aa0",
       "rows": [
        [
         "count",
         "654.0",
         "654.0"
        ],
        [
         "mean",
         "1075.1926605504586",
         "-0.004025143572559228"
        ],
        [
         "std",
         "625.6991088134454",
         "1.3313635656123006"
        ],
        [
         "min",
         "1.0",
         "-33.53819092591478"
        ],
        [
         "25%",
         "528.5",
         "-0.04035399172929083"
        ],
        [
         "50%",
         "1060.5",
         "0.047465939869893545"
        ],
        [
         "75%",
         "1631.5",
         "0.15758026849342618"
        ],
        [
         "max",
         "2147.0",
         "1.2054340202769818"
        ]
       ],
       "shape": {
        "columns": 2,
        "rows": 8
       }
      },
      "text/html": [
       "<div>\n",
       "<style scoped>\n",
       "    .dataframe tbody tr th:only-of-type {\n",
       "        vertical-align: middle;\n",
       "    }\n",
       "\n",
       "    .dataframe tbody tr th {\n",
       "        vertical-align: top;\n",
       "    }\n",
       "\n",
       "    .dataframe thead th {\n",
       "        text-align: right;\n",
       "    }\n",
       "</style>\n",
       "<table border=\"1\" class=\"dataframe\">\n",
       "  <thead>\n",
       "    <tr style=\"text-align: right;\">\n",
       "      <th></th>\n",
       "      <th>ID</th>\n",
       "      <th>TARGET</th>\n",
       "    </tr>\n",
       "  </thead>\n",
       "  <tbody>\n",
       "    <tr>\n",
       "      <th>count</th>\n",
       "      <td>654.000000</td>\n",
       "      <td>654.000000</td>\n",
       "    </tr>\n",
       "    <tr>\n",
       "      <th>mean</th>\n",
       "      <td>1075.192661</td>\n",
       "      <td>-0.004025</td>\n",
       "    </tr>\n",
       "    <tr>\n",
       "      <th>std</th>\n",
       "      <td>625.699109</td>\n",
       "      <td>1.331364</td>\n",
       "    </tr>\n",
       "    <tr>\n",
       "      <th>min</th>\n",
       "      <td>1.000000</td>\n",
       "      <td>-33.538191</td>\n",
       "    </tr>\n",
       "    <tr>\n",
       "      <th>25%</th>\n",
       "      <td>528.500000</td>\n",
       "      <td>-0.040354</td>\n",
       "    </tr>\n",
       "    <tr>\n",
       "      <th>50%</th>\n",
       "      <td>1060.500000</td>\n",
       "      <td>0.047466</td>\n",
       "    </tr>\n",
       "    <tr>\n",
       "      <th>75%</th>\n",
       "      <td>1631.500000</td>\n",
       "      <td>0.157580</td>\n",
       "    </tr>\n",
       "    <tr>\n",
       "      <th>max</th>\n",
       "      <td>2147.000000</td>\n",
       "      <td>1.205434</td>\n",
       "    </tr>\n",
       "  </tbody>\n",
       "</table>\n",
       "</div>"
      ],
      "text/plain": [
       "                ID      TARGET\n",
       "count   654.000000  654.000000\n",
       "mean   1075.192661   -0.004025\n",
       "std     625.699109    1.331364\n",
       "min       1.000000  -33.538191\n",
       "25%     528.500000   -0.040354\n",
       "50%    1060.500000    0.047466\n",
       "75%    1631.500000    0.157580\n",
       "max    2147.000000    1.205434"
      ]
     },
     "execution_count": 14,
     "metadata": {},
     "output_type": "execute_result"
    }
   ],
   "source": [
    "import numpy as np\n",
    "import pandas as pd\n",
    "from scipy.stats import spearmanr\n",
    "from sklearn.linear_model import LinearRegression\n",
    "import matplotlib.pyplot as plt\n",
    "\n",
    "\n",
    "FR_df = pd.read_csv('FR_svr_submission.csv')\n",
    "DE_df = pd.read_csv('DE_svr_submission.csv')\n",
    "# Merge FR_df and DE_df into one dataframe\n",
    "merged_df = pd.concat([FR_df, DE_df], ignore_index=True)\n",
    "\n",
    "merged_df.to_csv('svr_merged_submission.csv', index=False)\n",
    "merged_df.describe()"
   ]
  },
  {
   "cell_type": "code",
   "execution_count": 13,
   "id": "8d948cab",
   "metadata": {},
   "outputs": [
    {
     "data": {
      "application/vnd.microsoft.datawrangler.viewer.v0+json": {
       "columns": [
        {
         "name": "index",
         "rawType": "object",
         "type": "string"
        },
        {
         "name": "ID",
         "rawType": "float64",
         "type": "float"
        },
        {
         "name": "TARGET",
         "rawType": "float64",
         "type": "float"
        }
       ],
       "ref": "9e7eb569-08a7-4366-b200-c62b02e2234a",
       "rows": [
        [
         "count",
         "654.0",
         "654.0"
        ],
        [
         "mean",
         "1075.1926605504586",
         "-0.003458125360635527"
        ],
        [
         "std",
         "625.6991088134453",
         "1.3300536807644932"
        ],
        [
         "min",
         "1.0",
         "-33.53819092591478"
        ],
        [
         "25%",
         "528.5",
         "-0.017528271076453248"
        ],
        [
         "50%",
         "1060.5",
         "0.0139504565351813"
        ],
        [
         "75%",
         "1631.5",
         "0.15644795794891062"
        ],
        [
         "max",
         "2147.0",
         "1.2054340202769818"
        ]
       ],
       "shape": {
        "columns": 2,
        "rows": 8
       }
      },
      "text/html": [
       "<div>\n",
       "<style scoped>\n",
       "    .dataframe tbody tr th:only-of-type {\n",
       "        vertical-align: middle;\n",
       "    }\n",
       "\n",
       "    .dataframe tbody tr th {\n",
       "        vertical-align: top;\n",
       "    }\n",
       "\n",
       "    .dataframe thead th {\n",
       "        text-align: right;\n",
       "    }\n",
       "</style>\n",
       "<table border=\"1\" class=\"dataframe\">\n",
       "  <thead>\n",
       "    <tr style=\"text-align: right;\">\n",
       "      <th></th>\n",
       "      <th>ID</th>\n",
       "      <th>TARGET</th>\n",
       "    </tr>\n",
       "  </thead>\n",
       "  <tbody>\n",
       "    <tr>\n",
       "      <th>count</th>\n",
       "      <td>654.000000</td>\n",
       "      <td>654.000000</td>\n",
       "    </tr>\n",
       "    <tr>\n",
       "      <th>mean</th>\n",
       "      <td>1075.192661</td>\n",
       "      <td>-0.003458</td>\n",
       "    </tr>\n",
       "    <tr>\n",
       "      <th>std</th>\n",
       "      <td>625.699109</td>\n",
       "      <td>1.330054</td>\n",
       "    </tr>\n",
       "    <tr>\n",
       "      <th>min</th>\n",
       "      <td>1.000000</td>\n",
       "      <td>-33.538191</td>\n",
       "    </tr>\n",
       "    <tr>\n",
       "      <th>25%</th>\n",
       "      <td>528.500000</td>\n",
       "      <td>-0.017528</td>\n",
       "    </tr>\n",
       "    <tr>\n",
       "      <th>50%</th>\n",
       "      <td>1060.500000</td>\n",
       "      <td>0.013950</td>\n",
       "    </tr>\n",
       "    <tr>\n",
       "      <th>75%</th>\n",
       "      <td>1631.500000</td>\n",
       "      <td>0.156448</td>\n",
       "    </tr>\n",
       "    <tr>\n",
       "      <th>max</th>\n",
       "      <td>2147.000000</td>\n",
       "      <td>1.205434</td>\n",
       "    </tr>\n",
       "  </tbody>\n",
       "</table>\n",
       "</div>"
      ],
      "text/plain": [
       "                ID      TARGET\n",
       "count   654.000000  654.000000\n",
       "mean   1075.192661   -0.003458\n",
       "std     625.699109    1.330054\n",
       "min       1.000000  -33.538191\n",
       "25%     528.500000   -0.017528\n",
       "50%    1060.500000    0.013950\n",
       "75%    1631.500000    0.156448\n",
       "max    2147.000000    1.205434"
      ]
     },
     "execution_count": 13,
     "metadata": {},
     "output_type": "execute_result"
    }
   ],
   "source": [
    "import numpy as np\n",
    "import pandas as pd\n",
    "from scipy.stats import spearmanr\n",
    "from sklearn.linear_model import LinearRegression\n",
    "import matplotlib.pyplot as plt\n",
    "\n",
    "\n",
    "FR_df = pd.read_csv('FR_nonexo_svr_submission.csv')\n",
    "DE_df = pd.read_csv('DE_svr_submission.csv')\n",
    "Exo_df = pd.read_csv('exo_svr_submission.csv')\n",
    "# Merge FR_df and DE_df into one dataframe\n",
    "merged_df = pd.concat([FR_df, DE_df, Exo_df], ignore_index=True)\n",
    "\n",
    "\n",
    "\n",
    "merged_df.to_csv('svr_exomerged_submission.csv', index=False)\n",
    "merged_df.describe()\n"
   ]
  }
 ],
 "metadata": {
  "kernelspec": {
   "display_name": "base",
   "language": "python",
   "name": "python3"
  },
  "language_info": {
   "codemirror_mode": {
    "name": "ipython",
    "version": 3
   },
   "file_extension": ".py",
   "mimetype": "text/x-python",
   "name": "python",
   "nbconvert_exporter": "python",
   "pygments_lexer": "ipython3",
   "version": "3.11.5"
  }
 },
 "nbformat": 4,
 "nbformat_minor": 5
}
