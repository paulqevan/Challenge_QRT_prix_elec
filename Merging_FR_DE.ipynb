{
 "cells": [
  {
   "cell_type": "code",
   "execution_count": 1,
   "id": "52f226e6",
   "metadata": {},
   "outputs": [
    {
     "data": {
      "application/vnd.microsoft.datawrangler.viewer.v0+json": {
       "columns": [
        {
         "name": "index",
         "rawType": "object",
         "type": "string"
        },
        {
         "name": "ID",
         "rawType": "float64",
         "type": "float"
        },
        {
         "name": "TARGET",
         "rawType": "float64",
         "type": "float"
        }
       ],
       "ref": "ab55ede9-f571-4811-ac8e-33ac18397adf",
       "rows": [
        [
         "count",
         "654.0",
         "654.0"
        ],
        [
         "mean",
         "1075.1926605504586",
         "0.08667189390190998"
        ],
        [
         "std",
         "625.6991088134454",
         "0.18752610523545468"
        ],
        [
         "min",
         "1.0",
         "-0.877470424926984"
        ],
        [
         "25%",
         "528.5",
         "-0.025232696543005424"
        ],
        [
         "50%",
         "1060.5",
         "0.10554527812616091"
        ],
        [
         "75%",
         "1631.5",
         "0.22018659111992817"
        ],
        [
         "max",
         "2147.0",
         "0.5558496622036984"
        ]
       ],
       "shape": {
        "columns": 2,
        "rows": 8
       }
      },
      "text/html": [
       "<div>\n",
       "<style scoped>\n",
       "    .dataframe tbody tr th:only-of-type {\n",
       "        vertical-align: middle;\n",
       "    }\n",
       "\n",
       "    .dataframe tbody tr th {\n",
       "        vertical-align: top;\n",
       "    }\n",
       "\n",
       "    .dataframe thead th {\n",
       "        text-align: right;\n",
       "    }\n",
       "</style>\n",
       "<table border=\"1\" class=\"dataframe\">\n",
       "  <thead>\n",
       "    <tr style=\"text-align: right;\">\n",
       "      <th></th>\n",
       "      <th>ID</th>\n",
       "      <th>TARGET</th>\n",
       "    </tr>\n",
       "  </thead>\n",
       "  <tbody>\n",
       "    <tr>\n",
       "      <th>count</th>\n",
       "      <td>654.000000</td>\n",
       "      <td>654.000000</td>\n",
       "    </tr>\n",
       "    <tr>\n",
       "      <th>mean</th>\n",
       "      <td>1075.192661</td>\n",
       "      <td>0.086672</td>\n",
       "    </tr>\n",
       "    <tr>\n",
       "      <th>std</th>\n",
       "      <td>625.699109</td>\n",
       "      <td>0.187526</td>\n",
       "    </tr>\n",
       "    <tr>\n",
       "      <th>min</th>\n",
       "      <td>1.000000</td>\n",
       "      <td>-0.877470</td>\n",
       "    </tr>\n",
       "    <tr>\n",
       "      <th>25%</th>\n",
       "      <td>528.500000</td>\n",
       "      <td>-0.025233</td>\n",
       "    </tr>\n",
       "    <tr>\n",
       "      <th>50%</th>\n",
       "      <td>1060.500000</td>\n",
       "      <td>0.105545</td>\n",
       "    </tr>\n",
       "    <tr>\n",
       "      <th>75%</th>\n",
       "      <td>1631.500000</td>\n",
       "      <td>0.220187</td>\n",
       "    </tr>\n",
       "    <tr>\n",
       "      <th>max</th>\n",
       "      <td>2147.000000</td>\n",
       "      <td>0.555850</td>\n",
       "    </tr>\n",
       "  </tbody>\n",
       "</table>\n",
       "</div>"
      ],
      "text/plain": [
       "                ID      TARGET\n",
       "count   654.000000  654.000000\n",
       "mean   1075.192661    0.086672\n",
       "std     625.699109    0.187526\n",
       "min       1.000000   -0.877470\n",
       "25%     528.500000   -0.025233\n",
       "50%    1060.500000    0.105545\n",
       "75%    1631.500000    0.220187\n",
       "max    2147.000000    0.555850"
      ]
     },
     "execution_count": 1,
     "metadata": {},
     "output_type": "execute_result"
    }
   ],
   "source": [
    "import numpy as np\n",
    "import pandas as pd\n",
    "from scipy.stats import spearmanr\n",
    "from sklearn.linear_model import LinearRegression\n",
    "import matplotlib.pyplot as plt\n",
    "\n",
    "\n",
    "FR_df = pd.read_csv('FR_ridge_submission.csv')\n",
    "DE_df = pd.read_csv('DE_lasso_submission.csv')\n",
    "# Merge FR_df and DE_df into one dataframe\n",
    "merged_df = pd.concat([FR_df, DE_df], ignore_index=True)\n",
    "\n",
    "merged_df.to_csv('random_forest_submission.csv', index=False)\n",
    "merged_df.describe()"
   ]
  }
 ],
 "metadata": {
  "kernelspec": {
   "display_name": "base",
   "language": "python",
   "name": "python3"
  },
  "language_info": {
   "codemirror_mode": {
    "name": "ipython",
    "version": 3
   },
   "file_extension": ".py",
   "mimetype": "text/x-python",
   "name": "python",
   "nbconvert_exporter": "python",
   "pygments_lexer": "ipython3",
   "version": "3.11.5"
  }
 },
 "nbformat": 4,
 "nbformat_minor": 5
}
